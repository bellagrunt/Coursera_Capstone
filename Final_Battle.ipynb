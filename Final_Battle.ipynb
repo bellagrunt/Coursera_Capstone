{
    "nbformat_minor": 1, 
    "cells": [
        {
            "source": "# Zulu Man-Bikini Cafe", 
            "cell_type": "markdown", 
            "metadata": {
                "collapsed": true
            }
        }, 
        {
            "source": "## Alpha: 1. Backaground", 
            "cell_type": "markdown", 
            "metadata": {}
        }, 
        {
            "source": "Portland Oregon is located on the west coast of the United States. Oregon, Portland is right on the border between Washington and Oregon. It's the largest city by population in Oregon with different industries thriving. A client came to me asking if I could gather data on where to put her man-bikini coffee cafe called, \"Zulu Bikini Cafe\". It's an unique cafe where men are dressed in man-bikinis and serve coffee and other food items to customers. She picked Portland, Oregon because there's more of a population of females than males. So to her advantage she can advertise her coffee with men in sexy bathing suits serving coffee to customers.", 
            "cell_type": "markdown", 
            "metadata": {}
        }, 
        {
            "source": "## Bravo: 2. Issue", 
            "cell_type": "markdown", 
            "metadata": {}
        }, 
        {
            "source": "Oregon in general has an issue in the coffee market because there's an over supply of coffee shops with little demand of coffee. The issue with Portland is that there's too many cafes. Portland and the surrounding areas has the highest population in the state so it's ideal for someone who wants to open a cafe in Oregon. The data I will be gathering is by population, neighborhood, latitude, and longitude. ", 
            "cell_type": "markdown", 
            "metadata": {}
        }, 
        {
            "source": "## Charlie: 3. Data and how it will solve the issue:", 
            "cell_type": "markdown", 
            "metadata": {}
        }, 
        {
            "source": "For this project I will be web scraping by using beautifulSoup package to web scrape data from world-population-review of Oregon. I will also download data from portlandoregon.com that will provide neighborhoods, population of Portland, and how many females vs males in Portland. I will be using foursquare to populate all the cafes in different neihgborhoods. Finally I will then use the data I've gathered from neighborghood and the population and show her where to strategically place her business. I will do so by showing neighborhoods with the highest population with the least amount of cafes in X area. \n\nOregon Population: \nhttp://worldpopulationreview.com/states/oregon-population/\n\nPortland Population and neighborhoods:\nhttps://www.portlandoregon.gov/civic/article/376383\n\nFoursquare cafes in Portland Oregon:\nhttps://foursquare.com/explore?mode=url&near=Portland%2C%20OR%2C%20United%20States&nearGeoId=72057594043674481&q=cafe", 
            "cell_type": "markdown", 
            "metadata": {}
        }, 
        {
            "source": "", 
            "cell_type": "code", 
            "metadata": {}, 
            "outputs": [], 
            "execution_count": null
        }
    ], 
    "metadata": {
        "kernelspec": {
            "display_name": "Python 3.5", 
            "name": "python3", 
            "language": "python"
        }, 
        "language_info": {
            "mimetype": "text/x-python", 
            "nbconvert_exporter": "python", 
            "version": "3.5.5", 
            "name": "python", 
            "pygments_lexer": "ipython3", 
            "file_extension": ".py", 
            "codemirror_mode": {
                "version": 3, 
                "name": "ipython"
            }
        }
    }, 
    "nbformat": 4
}