{
    "nbformat_minor": 1, 
    "cells": [
        {
            "source": "# Toronto Project", 
            "cell_type": "markdown", 
            "metadata": {}
        }, 
        {
            "source": "#### Downloading libraries", 
            "cell_type": "markdown", 
            "metadata": {}
        }, 
        {
            "source": "try:\n    print('Downloading needed packages...')\n    !conda install -c conda-forge beautifulsoup4 --yes # web scraping\n    !conda install -c conda-forge lxml --yes # parser for html web scraping\n    print('Success: All lib downloaded')\nexcept:\n    print('Error')", 
            "cell_type": "code", 
            "metadata": {
                "scrolled": true
            }, 
            "outputs": [
                {
                    "output_type": "stream", 
                    "name": "stdout", 
                    "text": "Downloading needed packages...\nSolving environment: done\n\n# All requested packages already installed.\n\nSolving environment: done\n\n## Package Plan ##\n\n  environment location: /opt/conda/envs/DSX-Python35\n\n  added / updated specs: \n    - progressbar2\n\n\nThe following packages will be downloaded:\n\n    package                    |            build\n    ---------------------------|-----------------\n    pytest-runner-5.1          |             py_0           9 KB  conda-forge\n    progressbar2-3.38.0        |             py_1          19 KB  conda-forge\n    python-utils-2.3.0         |             py_1          11 KB  conda-forge\n    ------------------------------------------------------------\n                                           Total:          40 KB\n\nThe following NEW packages will be INSTALLED:\n\n    progressbar2:  3.38.0-py_1 conda-forge\n    pytest-runner: 5.1-py_0    conda-forge\n    python-utils:  2.3.0-py_1  conda-forge\n\n\nDownloading and Extracting Packages\npytest-runner-5.1    | 9 KB      | ##################################### | 100% \nprogressbar2-3.38.0  | 19 KB     | ##################################### | 100% \npython-utils-2.3.0   | 11 KB     | ##################################### | 100% \nPreparing transaction: done\nVerifying transaction: done\nExecuting transaction: done\nSolving environment: done\n\n# All requested packages already installed.\n\nSolving environment: done\n\n# All requested packages already installed.\n\nSolving environment: done\n\n# All requested packages already installed.\n\nSolving environment: done\n\n# All requested packages already installed.\n\nSuccess: All lib downloaded\n"
                }
            ], 
            "execution_count": 1
        }, 
        {
            "source": "#### Importing Libraries", 
            "cell_type": "markdown", 
            "metadata": {}
        }, 
        {
            "source": "try:\n    print(\"Importing libraries....\")\n    from bs4 import BeautifulSoup as bts # web scraping\n    import numpy as np # vectorized manner\n    import pandas as pd # data analysis\n    import requests # requests\n    import lxml \n    print(\"Success: libraries imported\")\nexcept:\n    print(\"Error: Not all libraries were imported\")", 
            "cell_type": "code", 
            "metadata": {}, 
            "outputs": [
                {
                    "output_type": "stream", 
                    "name": "stdout", 
                    "text": "Importing libraries....\nSuccess: libraries imported\n"
                }
            ], 
            "execution_count": 1
        }, 
        {
            "source": "#### Using beautifulsoup to scrape data", 
            "cell_type": "markdown", 
            "metadata": {}
        }, 
        {
            "source": "try:\n    print(\"Getting wiki scrape, source.text\")\n    url = 'https://en.wikipedia.org/wiki/List_of_postal_codes_of_Canada:_M'\n    source = requests.get(url).text\n    print(\"Success: wiki, source\")\nexcept:\n    print(\"Error\")\n", 
            "cell_type": "code", 
            "metadata": {}, 
            "outputs": [
                {
                    "output_type": "stream", 
                    "name": "stdout", 
                    "text": "Getting wiki scrape, source.text\nSuccess: wiki, source\n"
                }
            ], 
            "execution_count": 2
        }, 
        {
            "source": "#### Creating csv", 
            "cell_type": "markdown", 
            "metadata": {}
        }, 
        {
            "source": "filename = \"toronto_canada.csv\"\nf = open(filename, 'w')", 
            "cell_type": "code", 
            "metadata": {}, 
            "outputs": [], 
            "execution_count": 3
        }, 
        {
            "source": "soup = bts(source, 'lxml')", 
            "cell_type": "code", 
            "metadata": {}, 
            "outputs": [], 
            "execution_count": 4
        }, 
        {
            "source": "#### Using beautiful soup to find a global div then finding a table row, then table header", 
            "cell_type": "markdown", 
            "metadata": {}
        }, 
        {
            "source": "try: \n    print(\"Cleaning...\")\n    article = soup.find('div', 'mw-content-ltr')\n    table = article.table\n    rows = table.tbody.find_all('tr')\n    column_names = rows[0].find_all('th')\n    headers = \"\"\n    for column_name in column_names:\n        headers = headers + column_name.text + \",\"\n    headers = headers[:-1]\n    print(\"Cleaning: successful\")\nexcept:\n    print(\"Error\")\n", 
            "cell_type": "code", 
            "metadata": {}, 
            "outputs": [
                {
                    "output_type": "stream", 
                    "name": "stdout", 
                    "text": "Cleaning...\nCleaning: successful\n"
                }
            ], 
            "execution_count": 5
        }, 
        {
            "source": "#### Validating column names", 
            "cell_type": "markdown", 
            "metadata": {}
        }, 
        {
            "source": "print(column_names)", 
            "cell_type": "code", 
            "metadata": {}, 
            "outputs": [
                {
                    "output_type": "stream", 
                    "name": "stdout", 
                    "text": "[<th>Postcode</th>, <th>Borough</th>, <th>Neighbourhood\n</th>]\n"
                }
            ], 
            "execution_count": 6
        }, 
        {
            "source": "#### Writing headers", 
            "cell_type": "markdown", 
            "metadata": {}
        }, 
        {
            "source": "f.write(headers)", 
            "cell_type": "code", 
            "metadata": {}, 
            "outputs": [
                {
                    "output_type": "execute_result", 
                    "data": {
                        "text/plain": "31"
                    }, 
                    "execution_count": 7, 
                    "metadata": {}
                }
            ], 
            "execution_count": 7
        }, 
        {
            "source": "#### Table data", 
            "cell_type": "markdown", 
            "metadata": {}
        }, 
        {
            "source": "for row in rows:\n    cells = row.find_all('td')\n    row_buff = \"\"\n    for cell in cells:\n        row_buff = row_buff + cell.text + ','\n\n    row_buff = row_buff[:-1]\n    f.write(row_buff)", 
            "cell_type": "code", 
            "metadata": {}, 
            "outputs": [], 
            "execution_count": 8
        }, 
        {
            "source": "#### Using pandas now to read data from csv file, already imported the library from the top of the file", 
            "cell_type": "markdown", 
            "metadata": {}
        }, 
        {
            "source": "df_areas = pd.read_csv(\"toronto_canada.csv\")", 
            "cell_type": "code", 
            "metadata": {}, 
            "outputs": [], 
            "execution_count": 9
        }, 
        {
            "source": "#### What the data will look like before cleaning: sorting, removing 'Not assigned'", 
            "cell_type": "markdown", 
            "metadata": {}
        }, 
        {
            "source": "df_areas.head(10)", 
            "cell_type": "code", 
            "metadata": {}, 
            "outputs": [
                {
                    "output_type": "execute_result", 
                    "data": {
                        "text/html": "<div>\n<style scoped>\n    .dataframe tbody tr th:only-of-type {\n        vertical-align: middle;\n    }\n\n    .dataframe tbody tr th {\n        vertical-align: top;\n    }\n\n    .dataframe thead th {\n        text-align: right;\n    }\n</style>\n<table border=\"1\" class=\"dataframe\">\n  <thead>\n    <tr style=\"text-align: right;\">\n      <th></th>\n      <th>Postcode</th>\n      <th>Borough</th>\n      <th>Neighbourhood</th>\n    </tr>\n  </thead>\n  <tbody>\n    <tr>\n      <th>0</th>\n      <td>M1A</td>\n      <td>Not assigned</td>\n      <td>Not assigned</td>\n    </tr>\n    <tr>\n      <th>1</th>\n      <td>M2A</td>\n      <td>Not assigned</td>\n      <td>Not assigned</td>\n    </tr>\n    <tr>\n      <th>2</th>\n      <td>M3A</td>\n      <td>North York</td>\n      <td>Parkwoods</td>\n    </tr>\n    <tr>\n      <th>3</th>\n      <td>M4A</td>\n      <td>North York</td>\n      <td>Victoria Village</td>\n    </tr>\n    <tr>\n      <th>4</th>\n      <td>M5A</td>\n      <td>Downtown Toronto</td>\n      <td>Harbourfront</td>\n    </tr>\n    <tr>\n      <th>5</th>\n      <td>M5A</td>\n      <td>Downtown Toronto</td>\n      <td>Regent Park</td>\n    </tr>\n    <tr>\n      <th>6</th>\n      <td>M6A</td>\n      <td>North York</td>\n      <td>Lawrence Heights</td>\n    </tr>\n    <tr>\n      <th>7</th>\n      <td>M6A</td>\n      <td>North York</td>\n      <td>Lawrence Manor</td>\n    </tr>\n    <tr>\n      <th>8</th>\n      <td>M7A</td>\n      <td>Queen's Park</td>\n      <td>Not assigned</td>\n    </tr>\n    <tr>\n      <th>9</th>\n      <td>M8A</td>\n      <td>Not assigned</td>\n      <td>Not assigned</td>\n    </tr>\n  </tbody>\n</table>\n</div>", 
                        "text/plain": "  Postcode           Borough     Neighbourhood\n0      M1A      Not assigned      Not assigned\n1      M2A      Not assigned      Not assigned\n2      M3A        North York         Parkwoods\n3      M4A        North York  Victoria Village\n4      M5A  Downtown Toronto      Harbourfront\n5      M5A  Downtown Toronto       Regent Park\n6      M6A        North York  Lawrence Heights\n7      M6A        North York    Lawrence Manor\n8      M7A      Queen's Park      Not assigned\n9      M8A      Not assigned      Not assigned"
                    }, 
                    "execution_count": 12, 
                    "metadata": {}
                }
            ], 
            "execution_count": 12
        }, 
        {
            "source": "", 
            "cell_type": "code", 
            "metadata": {}, 
            "outputs": [], 
            "execution_count": null
        }, 
        {
            "source": "#### Generalize stats of the data ", 
            "cell_type": "markdown", 
            "metadata": {}
        }, 
        {
            "source": "df_areas.describe()", 
            "cell_type": "code", 
            "metadata": {}, 
            "outputs": [
                {
                    "output_type": "execute_result", 
                    "data": {
                        "text/html": "<div>\n<style scoped>\n    .dataframe tbody tr th:only-of-type {\n        vertical-align: middle;\n    }\n\n    .dataframe tbody tr th {\n        vertical-align: top;\n    }\n\n    .dataframe thead th {\n        text-align: right;\n    }\n</style>\n<table border=\"1\" class=\"dataframe\">\n  <thead>\n    <tr style=\"text-align: right;\">\n      <th></th>\n      <th>Postcode</th>\n      <th>Borough</th>\n      <th>Neighbourhood</th>\n    </tr>\n  </thead>\n  <tbody>\n    <tr>\n      <th>count</th>\n      <td>244</td>\n      <td>244</td>\n      <td>244</td>\n    </tr>\n    <tr>\n      <th>unique</th>\n      <td>136</td>\n      <td>12</td>\n      <td>209</td>\n    </tr>\n    <tr>\n      <th>top</th>\n      <td>M9V</td>\n      <td>Etobicoke</td>\n      <td>Not assigned</td>\n    </tr>\n    <tr>\n      <th>freq</th>\n      <td>8</td>\n      <td>45</td>\n      <td>34</td>\n    </tr>\n  </tbody>\n</table>\n</div>", 
                        "text/plain": "       Postcode    Borough Neighbourhood\ncount       244        244           244\nunique      136         12           209\ntop         M9V  Etobicoke  Not assigned\nfreq          8         45            34"
                    }, 
                    "execution_count": 495, 
                    "metadata": {}
                }
            ], 
            "execution_count": 495
        }, 
        {
            "source": "#### Showing a tuple from the dataframe", 
            "cell_type": "markdown", 
            "metadata": {}
        }, 
        {
            "source": "df_areas.shape", 
            "cell_type": "code", 
            "metadata": {}, 
            "outputs": [
                {
                    "output_type": "execute_result", 
                    "data": {
                        "text/plain": "(244, 3)"
                    }, 
                    "execution_count": 496, 
                    "metadata": {}
                }
            ], 
            "execution_count": 496
        }, 
        {
            "source": "df_areas.loc[:12,[\"Postcode\", \"Borough\", \"Neighbourhood\"]]", 
            "cell_type": "code", 
            "metadata": {}, 
            "outputs": [
                {
                    "output_type": "execute_result", 
                    "data": {
                        "text/html": "<div>\n<style scoped>\n    .dataframe tbody tr th:only-of-type {\n        vertical-align: middle;\n    }\n\n    .dataframe tbody tr th {\n        vertical-align: top;\n    }\n\n    .dataframe thead th {\n        text-align: right;\n    }\n</style>\n<table border=\"1\" class=\"dataframe\">\n  <thead>\n    <tr style=\"text-align: right;\">\n      <th></th>\n      <th>Postcode</th>\n      <th>Borough</th>\n      <th>Neighbourhood</th>\n    </tr>\n  </thead>\n  <tbody>\n    <tr>\n      <th>2</th>\n      <td>M3A</td>\n      <td>North York</td>\n      <td>Parkwoods</td>\n    </tr>\n    <tr>\n      <th>3</th>\n      <td>M4A</td>\n      <td>North York</td>\n      <td>Victoria Village</td>\n    </tr>\n    <tr>\n      <th>4</th>\n      <td>M5A</td>\n      <td>Downtown Toronto</td>\n      <td>Harbourfront</td>\n    </tr>\n    <tr>\n      <th>5</th>\n      <td>M5A</td>\n      <td>Downtown Toronto</td>\n      <td>Regent Park</td>\n    </tr>\n    <tr>\n      <th>6</th>\n      <td>M6A</td>\n      <td>North York</td>\n      <td>Lawrence Heights</td>\n    </tr>\n    <tr>\n      <th>7</th>\n      <td>M6A</td>\n      <td>North York</td>\n      <td>Lawrence Manor</td>\n    </tr>\n    <tr>\n      <th>8</th>\n      <td>M7A</td>\n      <td>Queen's Park</td>\n      <td>Not assigned</td>\n    </tr>\n    <tr>\n      <th>9</th>\n      <td>M8A</td>\n      <td>Not assigned</td>\n      <td>Not assigned</td>\n    </tr>\n    <tr>\n      <th>10</th>\n      <td>M9A</td>\n      <td>Etobicoke</td>\n      <td>Islington Avenue</td>\n    </tr>\n    <tr>\n      <th>11</th>\n      <td>M1B</td>\n      <td>Scarborough</td>\n      <td>Rouge</td>\n    </tr>\n    <tr>\n      <th>12</th>\n      <td>M1B</td>\n      <td>Scarborough</td>\n      <td>Malvern</td>\n    </tr>\n  </tbody>\n</table>\n</div>", 
                        "text/plain": "   Postcode           Borough     Neighbourhood\n2       M3A        North York         Parkwoods\n3       M4A        North York  Victoria Village\n4       M5A  Downtown Toronto      Harbourfront\n5       M5A  Downtown Toronto       Regent Park\n6       M6A        North York  Lawrence Heights\n7       M6A        North York    Lawrence Manor\n8       M7A      Queen's Park      Not assigned\n9       M8A      Not assigned      Not assigned\n10      M9A         Etobicoke  Islington Avenue\n11      M1B       Scarborough             Rouge\n12      M1B       Scarborough           Malvern"
                    }, 
                    "execution_count": 497, 
                    "metadata": {}
                }
            ], 
            "execution_count": 497
        }, 
        {
            "source": "#### Dropping data", 
            "cell_type": "markdown", 
            "metadata": {}
        }, 
        {
            "source": "borough_area = df_areas.index[df_areas['Borough'] == 'Not assigned']\ndf_areas.drop(df_areas.index[borough_area], inplace=True)\n\nneighbourhood_area = df_areas.index[df_areas['Neighbourhood'] == 'Not assigned']\ndf_areas.drop(df_areas.index[neighbourhood_area], inplace=True)\n\ndf_areas.reset_index(drop=True, inplace=True)\ndf_areas.head(12)", 
            "cell_type": "code", 
            "metadata": {}, 
            "outputs": [
                {
                    "output_type": "execute_result", 
                    "data": {
                        "text/html": "<div>\n<style scoped>\n    .dataframe tbody tr th:only-of-type {\n        vertical-align: middle;\n    }\n\n    .dataframe tbody tr th {\n        vertical-align: top;\n    }\n\n    .dataframe thead th {\n        text-align: right;\n    }\n</style>\n<table border=\"1\" class=\"dataframe\">\n  <thead>\n    <tr style=\"text-align: right;\">\n      <th></th>\n      <th>Postcode</th>\n      <th>Borough</th>\n      <th>Neighbourhood</th>\n    </tr>\n  </thead>\n  <tbody>\n    <tr>\n      <th>0</th>\n      <td>M5A</td>\n      <td>Downtown Toronto</td>\n      <td>Harbourfront</td>\n    </tr>\n    <tr>\n      <th>1</th>\n      <td>M5A</td>\n      <td>Downtown Toronto</td>\n      <td>Regent Park</td>\n    </tr>\n    <tr>\n      <th>2</th>\n      <td>M6A</td>\n      <td>North York</td>\n      <td>Lawrence Heights</td>\n    </tr>\n    <tr>\n      <th>3</th>\n      <td>M6A</td>\n      <td>North York</td>\n      <td>Lawrence Manor</td>\n    </tr>\n    <tr>\n      <th>4</th>\n      <td>M9A</td>\n      <td>Etobicoke</td>\n      <td>Islington Avenue</td>\n    </tr>\n    <tr>\n      <th>5</th>\n      <td>M1B</td>\n      <td>Scarborough</td>\n      <td>Rouge</td>\n    </tr>\n    <tr>\n      <th>6</th>\n      <td>M1B</td>\n      <td>Scarborough</td>\n      <td>Malvern</td>\n    </tr>\n    <tr>\n      <th>7</th>\n      <td>M3B</td>\n      <td>North York</td>\n      <td>Don Mills North</td>\n    </tr>\n    <tr>\n      <th>8</th>\n      <td>M4B</td>\n      <td>East York</td>\n      <td>Woodbine Gardens</td>\n    </tr>\n    <tr>\n      <th>9</th>\n      <td>M4B</td>\n      <td>East York</td>\n      <td>Parkview Hill</td>\n    </tr>\n    <tr>\n      <th>10</th>\n      <td>M5B</td>\n      <td>Downtown Toronto</td>\n      <td>Ryerson</td>\n    </tr>\n    <tr>\n      <th>11</th>\n      <td>M5B</td>\n      <td>Downtown Toronto</td>\n      <td>Garden District</td>\n    </tr>\n  </tbody>\n</table>\n</div>", 
                        "text/plain": "   Postcode           Borough     Neighbourhood\n0       M5A  Downtown Toronto      Harbourfront\n1       M5A  Downtown Toronto       Regent Park\n2       M6A        North York  Lawrence Heights\n3       M6A        North York    Lawrence Manor\n4       M9A         Etobicoke  Islington Avenue\n5       M1B       Scarborough             Rouge\n6       M1B       Scarborough           Malvern\n7       M3B        North York   Don Mills North\n8       M4B         East York  Woodbine Gardens\n9       M4B         East York     Parkview Hill\n10      M5B  Downtown Toronto           Ryerson\n11      M5B  Downtown Toronto   Garden District"
                    }, 
                    "execution_count": 501, 
                    "metadata": {}
                }
            ], 
            "execution_count": 501
        }, 
        {
            "source": "#### After cleaning", 
            "cell_type": "markdown", 
            "metadata": {}
        }, 
        {
            "source": "print(borough_area.shape[0])\nprint(neighbourhood_area.shape[0])", 
            "cell_type": "code", 
            "metadata": {}, 
            "outputs": [
                {
                    "output_type": "stream", 
                    "name": "stdout", 
                    "text": "0\n1\n"
                }
            ], 
            "execution_count": 502
        }, 
        {
            "source": "print('Boroughs: {}'.format(df_areas['Borough'].unique().shape[0]))\nprint('Postal Codes: {}'.format(df_areas['Postcode'].unique().shape[0]))\nprint('Neighbourhoods: {}'.format(df_areas['Neighbourhood'].unique().shape[0]))", 
            "cell_type": "code", 
            "metadata": {}, 
            "outputs": [
                {
                    "output_type": "stream", 
                    "name": "stdout", 
                    "text": "Boroughs: 10\nPostal Codes: 100\nNeighbourhoods: 206\n"
                }
            ], 
            "execution_count": 503
        }, 
        {
            "source": "df_areas.head(12)", 
            "cell_type": "code", 
            "metadata": {}, 
            "outputs": [
                {
                    "output_type": "execute_result", 
                    "data": {
                        "text/html": "<div>\n<style scoped>\n    .dataframe tbody tr th:only-of-type {\n        vertical-align: middle;\n    }\n\n    .dataframe tbody tr th {\n        vertical-align: top;\n    }\n\n    .dataframe thead th {\n        text-align: right;\n    }\n</style>\n<table border=\"1\" class=\"dataframe\">\n  <thead>\n    <tr style=\"text-align: right;\">\n      <th></th>\n      <th>Postcode</th>\n      <th>Borough</th>\n      <th>Neighbourhood</th>\n    </tr>\n  </thead>\n  <tbody>\n    <tr>\n      <th>0</th>\n      <td>M5A</td>\n      <td>Downtown Toronto</td>\n      <td>Harbourfront</td>\n    </tr>\n    <tr>\n      <th>1</th>\n      <td>M5A</td>\n      <td>Downtown Toronto</td>\n      <td>Regent Park</td>\n    </tr>\n    <tr>\n      <th>2</th>\n      <td>M6A</td>\n      <td>North York</td>\n      <td>Lawrence Heights</td>\n    </tr>\n    <tr>\n      <th>3</th>\n      <td>M6A</td>\n      <td>North York</td>\n      <td>Lawrence Manor</td>\n    </tr>\n    <tr>\n      <th>4</th>\n      <td>M9A</td>\n      <td>Etobicoke</td>\n      <td>Islington Avenue</td>\n    </tr>\n    <tr>\n      <th>5</th>\n      <td>M1B</td>\n      <td>Scarborough</td>\n      <td>Rouge</td>\n    </tr>\n    <tr>\n      <th>6</th>\n      <td>M1B</td>\n      <td>Scarborough</td>\n      <td>Malvern</td>\n    </tr>\n    <tr>\n      <th>7</th>\n      <td>M3B</td>\n      <td>North York</td>\n      <td>Don Mills North</td>\n    </tr>\n    <tr>\n      <th>8</th>\n      <td>M4B</td>\n      <td>East York</td>\n      <td>Woodbine Gardens</td>\n    </tr>\n    <tr>\n      <th>9</th>\n      <td>M4B</td>\n      <td>East York</td>\n      <td>Parkview Hill</td>\n    </tr>\n    <tr>\n      <th>10</th>\n      <td>M5B</td>\n      <td>Downtown Toronto</td>\n      <td>Ryerson</td>\n    </tr>\n    <tr>\n      <th>11</th>\n      <td>M5B</td>\n      <td>Downtown Toronto</td>\n      <td>Garden District</td>\n    </tr>\n  </tbody>\n</table>\n</div>", 
                        "text/plain": "   Postcode           Borough     Neighbourhood\n0       M5A  Downtown Toronto      Harbourfront\n1       M5A  Downtown Toronto       Regent Park\n2       M6A        North York  Lawrence Heights\n3       M6A        North York    Lawrence Manor\n4       M9A         Etobicoke  Islington Avenue\n5       M1B       Scarborough             Rouge\n6       M1B       Scarborough           Malvern\n7       M3B        North York   Don Mills North\n8       M4B         East York  Woodbine Gardens\n9       M4B         East York     Parkview Hill\n10      M5B  Downtown Toronto           Ryerson\n11      M5B  Downtown Toronto   Garden District"
                    }, 
                    "execution_count": 504, 
                    "metadata": {}
                }
            ], 
            "execution_count": 504
        }, 
        {
            "source": "print(df_areas.shape)", 
            "cell_type": "code", 
            "metadata": {}, 
            "outputs": [
                {
                    "output_type": "stream", 
                    "name": "stdout", 
                    "text": "(208, 3)\n"
                }
            ], 
            "execution_count": 505
        }, 
        {
            "source": "", 
            "cell_type": "code", 
            "metadata": {}, 
            "outputs": [], 
            "execution_count": null
        }, 
        {
            "source": "", 
            "cell_type": "code", 
            "metadata": {}, 
            "outputs": [], 
            "execution_count": null
        }, 
        {
            "source": "", 
            "cell_type": "code", 
            "metadata": {}, 
            "outputs": [], 
            "execution_count": null
        }, 
        {
            "source": "", 
            "cell_type": "code", 
            "metadata": {}, 
            "outputs": [], 
            "execution_count": null
        }, 
        {
            "source": "", 
            "cell_type": "code", 
            "metadata": {}, 
            "outputs": [], 
            "execution_count": null
        }, 
        {
            "source": "", 
            "cell_type": "code", 
            "metadata": {}, 
            "outputs": [], 
            "execution_count": null
        }, 
        {
            "source": "", 
            "cell_type": "code", 
            "metadata": {}, 
            "outputs": [], 
            "execution_count": null
        }
    ], 
    "metadata": {
        "kernelspec": {
            "display_name": "Python 3.5", 
            "name": "python3", 
            "language": "python"
        }, 
        "language_info": {
            "mimetype": "text/x-python", 
            "nbconvert_exporter": "python", 
            "version": "3.5.5", 
            "name": "python", 
            "file_extension": ".py", 
            "pygments_lexer": "ipython3", 
            "codemirror_mode": {
                "version": 3, 
                "name": "ipython"
            }
        }
    }, 
    "nbformat": 4
}